{
 "cells": [
  {
   "cell_type": "markdown",
   "id": "e4f3f99b",
   "metadata": {},
   "source": [
    "# 03 Feature Importance"
   ]
  },
  {
   "cell_type": "code",
   "execution_count": null,
   "id": "7becfab1",
   "metadata": {},
   "outputs": [],
   "source": [
    "# Import libraries\n",
    "import pandas as pd\n",
    "from sklearn.model_selection import train_test_split\n",
    "from xgboost import XGBClassifier\n",
    "import shap\n",
    "import matplotlib.pyplot as plt\n"
   ]
  },
  {
   "cell_type": "code",
   "execution_count": null,
   "id": "827f0bd9",
   "metadata": {},
   "outputs": [],
   "source": [
    "# Load dataset and rename columns\n",
    "df = pd.read_csv(\"../data/ai4i2020.csv\")\n",
    "X = df[['Air temperature [K]', 'Process temperature [K]', 'Rotational speed [rpm]', \n",
    "        'Torque [Nm]', 'Tool wear [min]']].copy()\n",
    "X.columns = ['AirTemp', 'ProcessTemp', 'RPM', 'Torque', 'ToolWear']\n",
    "y = df['Machine failure']\n",
    "\n",
    "# Train/test split\n",
    "X_train, X_test, y_train, y_test = train_test_split(X, y, test_size=0.2, random_state=42)\n"
   ]
  },
  {
   "cell_type": "code",
   "execution_count": null,
   "id": "e806b726",
   "metadata": {},
   "outputs": [],
   "source": [
    "# Train XGBoost\n",
    "xgb_model = XGBClassifier(use_label_encoder=False, eval_metric='logloss')\n",
    "xgb_model.fit(X_train, y_train)\n"
   ]
  },
  {
   "cell_type": "code",
   "execution_count": null,
   "id": "a849125b",
   "metadata": {},
   "outputs": [],
   "source": [
    "# SHAP Explainer\n",
    "explainer = shap.Explainer(xgb_model, X_train)\n",
    "shap_values = explainer(X_train)\n"
   ]
  },
  {
   "cell_type": "code",
   "execution_count": null,
   "id": "c56f779a",
   "metadata": {},
   "outputs": [],
   "source": [
    "# SHAP Summary Plot\n",
    "shap.summary_plot(shap_values, X_train)\n"
   ]
  },
  {
   "cell_type": "code",
   "execution_count": null,
   "id": "f28ffe44",
   "metadata": {},
   "outputs": [],
   "source": [
    "# SHAP Bar Plot\n",
    "shap.plots.bar(shap_values)\n"
   ]
  }
 ],
 "metadata": {},
 "nbformat": 4,
 "nbformat_minor": 5
}
