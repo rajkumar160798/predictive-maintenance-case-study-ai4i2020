{
 "cells": [
  {
   "cell_type": "markdown",
   "id": "9d9df650",
   "metadata": {},
   "source": [
    "# 04 Failure Prediction"
   ]
  },
  {
   "cell_type": "code",
   "execution_count": null,
   "id": "2fc6f752",
   "metadata": {},
   "outputs": [],
   "source": [
    "# Import libraries\n",
    "import pandas as pd\n",
    "from sklearn.model_selection import train_test_split\n",
    "from xgboost import XGBClassifier\n",
    "from sklearn.metrics import classification_report, confusion_matrix, ConfusionMatrixDisplay\n",
    "import matplotlib.pyplot as plt\n"
   ]
  },
  {
   "cell_type": "code",
   "execution_count": null,
   "id": "ff7e9926",
   "metadata": {},
   "outputs": [],
   "source": [
    "# Load and prepare dataset\n",
    "df = pd.read_csv(\"../data/ai4i2020.csv\")\n",
    "X = df[['Air temperature [K]', 'Process temperature [K]', 'Rotational speed [rpm]', \n",
    "        'Torque [Nm]', 'Tool wear [min]']].copy()\n",
    "X.columns = ['AirTemp', 'ProcessTemp', 'RPM', 'Torque', 'ToolWear']\n",
    "y = df['Machine failure']\n",
    "\n",
    "# Train/test split\n",
    "X_train, X_test, y_train, y_test = train_test_split(X, y, test_size=0.2, random_state=42)\n"
   ]
  },
  {
   "cell_type": "code",
   "execution_count": null,
   "id": "2e976aec",
   "metadata": {},
   "outputs": [],
   "source": [
    "# Train XGBoost\n",
    "xgb_model = XGBClassifier(use_label_encoder=False, eval_metric='logloss')\n",
    "xgb_model.fit(X_train, y_train)\n",
    "y_pred = xgb_model.predict(X_test)\n"
   ]
  },
  {
   "cell_type": "code",
   "execution_count": null,
   "id": "2ee2e292",
   "metadata": {},
   "outputs": [],
   "source": [
    "# Evaluation Metrics\n",
    "print(\"Classification Report:\")\n",
    "print(classification_report(y_test, y_pred))\n"
   ]
  },
  {
   "cell_type": "code",
   "execution_count": null,
   "id": "a4c40e57",
   "metadata": {},
   "outputs": [],
   "source": [
    "# Confusion Matrix\n",
    "cm = confusion_matrix(y_test, y_pred)\n",
    "disp = ConfusionMatrixDisplay(confusion_matrix=cm, display_labels=[\"No Failure\", \"Failure\"])\n",
    "disp.plot(cmap=\"Blues\")\n",
    "plt.title(\"XGBoost - Confusion Matrix\")\n",
    "plt.show()\n"
   ]
  }
 ],
 "metadata": {},
 "nbformat": 4,
 "nbformat_minor": 5
}
