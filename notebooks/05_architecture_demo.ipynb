{
 "cells": [
  {
   "cell_type": "markdown",
   "id": "7cfab83d",
   "metadata": {},
   "source": [
    "# 05 Architecture Demo"
   ]
  },
  {
   "cell_type": "code",
   "execution_count": null,
   "id": "7f34ce32",
   "metadata": {},
   "outputs": [],
   "source": [
    "# If using Mermaid in VSCode Jupyter or Jupyter Lab with extension:\n",
    "# %%[markdown]\n",
    "# ```mermaid\n",
    "# graph TD\n",
    "#     A[Raw Sensor Data] --> B[Preprocessing]\n",
    "#     B --> C[Feature Engineering]\n",
    "#     C --> D[Trained ML Models]\n",
    "#     D --> E[Failure Predictions]\n",
    "#     D --> F[SHAP Explanations]\n",
    "#     E --> G[Alerts/Dashboard or PDF Reports]\n",
    "# ```"
   ]
  },
  {
   "cell_type": "code",
   "execution_count": null,
   "id": "658bb5c9",
   "metadata": {},
   "outputs": [],
   "source": [
    "# Alternatively, import and show architecture.png if using external diagram\n",
    "from IPython.display import Image\n",
    "Image(filename=\"../diagrams/architecture.png\")\n"
   ]
  },
  {
   "cell_type": "code",
   "execution_count": null,
   "id": "a9e4a753",
   "metadata": {},
   "outputs": [],
   "source": [
    "# Markdown explanation of the architecture\n",
    "\n",
    "### 🔧 System Architecture Explanation\n",
    "\n",
    "1. **Raw Sensor Data** — Collected from machines with features like RPM, temperature, torque, etc.\n",
    "2. **Preprocessing** — Cleans and renames features for model compatibility.\n",
    "3. **Modeling** — Trained with RandomForest and XGBoost to classify failure risk.\n",
    "4. **Explainability** — SHAP is used to explain predictions for each instance.\n",
    "5. **Output Layer** — Results can be sent to a dashboard or used to trigger alerting systems.\n",
    "6. **Reporting (optional)** — PDF reports or API endpoints to integrate into production systems.\n"
   ]
  }
 ],
 "metadata": {},
 "nbformat": 4,
 "nbformat_minor": 5
}
