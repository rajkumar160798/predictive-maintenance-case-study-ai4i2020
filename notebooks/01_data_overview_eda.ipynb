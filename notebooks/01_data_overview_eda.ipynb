{
 "cells": [
  {
   "cell_type": "markdown",
   "id": "1ad93983",
   "metadata": {},
   "source": [
    "# 01 Data Overview Eda"
   ]
  },
  {
   "cell_type": "code",
   "execution_count": null,
   "id": "f84a03f4",
   "metadata": {},
   "outputs": [],
   "source": [
    "# Import libraries\n",
    "import pandas as pd\n",
    "import seaborn as sns\n",
    "import matplotlib.pyplot as plt\n",
    "\n",
    "sns.set(style=\"whitegrid\")\n",
    "\n",
    "# Load the dataset\n",
    "df = pd.read_csv(\"../data/ai4i2020.csv\")\n"
   ]
  },
  {
   "cell_type": "code",
   "execution_count": null,
   "id": "f680f7c6",
   "metadata": {},
   "outputs": [],
   "source": [
    "# Plot 1: Machine Failure Distribution\n",
    "plt.figure(figsize=(6, 4))\n",
    "sns.countplot(x='Machine failure', data=df, palette='Set2')\n",
    "plt.title(\"Machine Failure Distribution\")\n",
    "plt.xlabel(\"Failure (0 = No, 1 = Yes)\")\n",
    "plt.ylabel(\"Count\")\n",
    "plt.show()\n"
   ]
  },
  {
   "cell_type": "code",
   "execution_count": null,
   "id": "85464ed2",
   "metadata": {},
   "outputs": [],
   "source": [
    "# Plot 2: Breakdown of individual failure types\n",
    "failure_cols = ['TWF', 'HDF', 'PWF', 'OSF', 'RNF']\n",
    "failure_sums = df[failure_cols].sum().sort_values(ascending=False)\n",
    "\n",
    "plt.figure(figsize=(8, 5))\n",
    "sns.barplot(x=failure_sums.index, y=failure_sums.values, palette='Set3')\n",
    "plt.title(\"Breakdown of Failure Types\")\n",
    "plt.ylabel(\"Failure Occurrences\")\n",
    "plt.xlabel(\"Failure Type\")\n",
    "plt.show()\n"
   ]
  },
  {
   "cell_type": "code",
   "execution_count": null,
   "id": "34ba0d13",
   "metadata": {},
   "outputs": [],
   "source": [
    "# Plot 3: Torque Distribution by Failure\n",
    "plt.figure(figsize=(10, 6))\n",
    "sns.boxplot(x='Machine failure', y='Torque [Nm]', data=df, palette='Set1')\n",
    "plt.title(\"Torque Distribution by Failure Status\")\n",
    "plt.xlabel(\"Failure\")\n",
    "plt.ylabel(\"Torque [Nm]\")\n",
    "plt.show()\n"
   ]
  },
  {
   "cell_type": "code",
   "execution_count": null,
   "id": "de8de413",
   "metadata": {},
   "outputs": [],
   "source": [
    "# Plot 4: Correlation Heatmap\n",
    "plt.figure(figsize=(12, 8))\n",
    "corr = df.drop(columns=['UDI', 'Product ID']).corr()\n",
    "sns.heatmap(corr, annot=True, fmt=\".2f\", cmap='coolwarm')\n",
    "plt.title(\"Correlation Heatmap\")\n",
    "plt.show()\n"
   ]
  },
  {
   "cell_type": "code",
   "execution_count": null,
   "id": "e5e015f7",
   "metadata": {},
   "outputs": [],
   "source": [
    "# Plot 5: RPM vs Torque Scatter Plot colored by Failure\n",
    "plt.figure(figsize=(10, 6))\n",
    "sns.scatterplot(data=df, x='Rotational speed [rpm]', y='Torque [Nm]', hue='Machine failure', palette='coolwarm', alpha=0.7)\n",
    "plt.title(\"RPM vs Torque Colored by Machine Failure\")\n",
    "plt.xlabel(\"RPM\")\n",
    "plt.ylabel(\"Torque [Nm]\")\n",
    "plt.legend(title=\"Failure\")\n",
    "plt.show()\n"
   ]
  },
  {
   "cell_type": "code",
   "execution_count": null,
   "id": "ef41f507",
   "metadata": {},
   "outputs": [],
   "source": [
    "# Plot 6: Failure Rate by Machine Type\n",
    "plt.figure(figsize=(7, 5))\n",
    "type_failure = df.groupby('Type')['Machine failure'].mean().reset_index()\n",
    "sns.barplot(data=type_failure, x='Type', y='Machine failure', palette='Set2')\n",
    "plt.title(\"Failure Rate by Machine Type\")\n",
    "plt.ylabel(\"Failure Rate\")\n",
    "plt.xlabel(\"Machine Type\")\n",
    "plt.show()\n"
   ]
  }
 ],
 "metadata": {},
 "nbformat": 4,
 "nbformat_minor": 5
}
